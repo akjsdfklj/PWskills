{
 "cells": [
  {
   "cell_type": "code",
   "execution_count": 1,
   "metadata": {},
   "outputs": [
    {
     "name": "stdout",
     "output_type": "stream",
     "text": [
      "inrakluK ajetivaR\n"
     ]
    }
   ],
   "source": [
    "#1 write a program reversing string?\n",
    "str = \"Raviteja Kulkarni\"\n",
    "print(str[::-1])\n"
   ]
  },
  {
   "cell_type": "code",
   "execution_count": 75,
   "metadata": {},
   "outputs": [
    {
     "name": "stdout",
     "output_type": "stream",
     "text": [
      "inrakluK ajetivaR ma I\n"
     ]
    }
   ],
   "source": [
    "#write a program reversing string? 2nd method\n",
    "def str(x):\n",
    "    return x[::-1]\n",
    "\n",
    "mystr=str(\"I am Raviteja Kulkarni\")\n",
    "print(mystr)"
   ]
  },
  {
   "cell_type": "code",
   "execution_count": 76,
   "metadata": {},
   "outputs": [
    {
     "name": "stdout",
     "output_type": "stream",
     "text": [
      "String is in Palindrome\n"
     ]
    }
   ],
   "source": [
    "#2. Check if a string is a palindrome\n",
    "str = 'radar'\n",
    "rev_str = str[::-1]\n",
    "if (str==rev_str):\n",
    "    print('String is in Palindrome')\n",
    "\n",
    "else:\n",
    "    print(\"string is not in palindrome\")"
   ]
  },
  {
   "cell_type": "code",
   "execution_count": 77,
   "metadata": {},
   "outputs": [
    {
     "name": "stdout",
     "output_type": "stream",
     "text": [
      "plaindrome\n"
     ]
    }
   ],
   "source": [
    "def pali(string):\n",
    "    if string == string[::-1]:\n",
    "        print('plaindrome')\n",
    "    else:\n",
    "        print(\"not palindrome\")\n",
    "\n",
    "string = pali(input('enter stirng'))\n",
    "\n",
    "\n"
   ]
  },
  {
   "cell_type": "code",
   "execution_count": 78,
   "metadata": {},
   "outputs": [
    {
     "name": "stdout",
     "output_type": "stream",
     "text": [
      "\n"
     ]
    }
   ],
   "source": [
    "# 3. Convert a string to uppercase.\n",
    "str=input('enter string to capitalize')\n",
    "print(str.upper())"
   ]
  },
  {
   "cell_type": "code",
   "execution_count": 79,
   "metadata": {},
   "outputs": [
    {
     "name": "stdout",
     "output_type": "stream",
     "text": [
      "\n"
     ]
    }
   ],
   "source": [
    "# 4. Convert a string to lowercase.\n",
    "lw_str=input('enter strign - lower')\n",
    "print(lw_str.lower())"
   ]
  },
  {
   "cell_type": "code",
   "execution_count": 80,
   "metadata": {},
   "outputs": [
    {
     "name": "stdout",
     "output_type": "stream",
     "text": [
      "number of vowels in  is 0\n"
     ]
    }
   ],
   "source": [
    "# 5 Count the number of vowels in a string.\n",
    "str = input('Enter string')\n",
    "vowels=0\n",
    "for i in str:\n",
    "    if(i=='a'or i=='e'or i=='i'or i=='o'or i=='u'):\n",
    "        vowels+=1\n",
    "\n",
    "print(f\"number of vowels in {str} is {vowels}\")"
   ]
  },
  {
   "cell_type": "code",
   "execution_count": 81,
   "metadata": {},
   "outputs": [
    {
     "name": "stdout",
     "output_type": "stream",
     "text": [
      "0\n"
     ]
    }
   ],
   "source": [
    "str = input('enter string ')\n",
    "lis=[]\n",
    "for i in str:\n",
    "    if(i=='a'or i=='e'or i=='i'or i=='o'or i=='u'):\n",
    "        lis.append(i)\n",
    "\n",
    "print(len(lis))"
   ]
  },
  {
   "cell_type": "code",
   "execution_count": 82,
   "metadata": {},
   "outputs": [
    {
     "name": "stdout",
     "output_type": "stream",
     "text": [
      "consonant in  are 0\n"
     ]
    }
   ],
   "source": [
    "# 6. Count the number of consonants in a string.\n",
    "#meth 1\n",
    "str = input('enter string')\n",
    "consonants =len(str)\n",
    "for i in str:\n",
    "    # if(i!='a'or i!='e'or i!='i'or i!='o'or i!='u'):\n",
    "    if(i=='a'or i=='e'or i=='i'or i=='o'or i=='u'):\n",
    "        consonants-=1\n",
    "\n",
    "print(f\"consonant in {str} are {consonants}\")"
   ]
  },
  {
   "cell_type": "code",
   "execution_count": 83,
   "metadata": {},
   "outputs": [
    {
     "name": "stdout",
     "output_type": "stream",
     "text": [
      "consonant in  are 0\n"
     ]
    }
   ],
   "source": [
    "str = input('enter string')\n",
    "consonants =0\n",
    "for i in str:\n",
    "    if(i=='a'or i=='e'or i=='i'or i=='o'or i=='u'):\n",
    "        pass\n",
    "\n",
    "    else:\n",
    "    \n",
    "        consonants+=1\n",
    "\n",
    "print(f\"consonant in {str} are {consonants}\")"
   ]
  },
  {
   "cell_type": "code",
   "execution_count": 84,
   "metadata": {},
   "outputs": [
    {
     "name": "stdout",
     "output_type": "stream",
     "text": [
      "\n"
     ]
    }
   ],
   "source": [
    "# Remove all whitespaces from a string.\n",
    "def remove(string):\n",
    "    return string.replace(\" \",\"\")\n",
    "\n",
    "string = input('enter')\n",
    "print(remove(string))"
   ]
  },
  {
   "cell_type": "code",
   "execution_count": 85,
   "metadata": {},
   "outputs": [
    {
     "name": "stdout",
     "output_type": "stream",
     "text": [
      "\n"
     ]
    }
   ],
   "source": [
    "str = input('enter')\n",
    "print(str.replace(\" \",\"\"))"
   ]
  },
  {
   "cell_type": "code",
   "execution_count": 86,
   "metadata": {},
   "outputs": [
    {
     "name": "stdout",
     "output_type": "stream",
     "text": [
      "8\n"
     ]
    }
   ],
   "source": [
    "# Find the length of a string without using the `len()` function.\n",
    "\n",
    "str = \"raviteja\"\n",
    "c=0\n",
    "for i in str:\n",
    "    c+=1\n",
    "print(c)\n"
   ]
  },
  {
   "cell_type": "code",
   "execution_count": 87,
   "metadata": {},
   "outputs": [
    {
     "name": "stdout",
     "output_type": "stream",
     "text": [
      "a is there\n"
     ]
    }
   ],
   "source": [
    "# 9. Check if a string contains a specific word.\n",
    "str = 'raviteja s kulkarni'\n",
    "if 'a'in str:\n",
    "    print('a is there')\n",
    "else:\n",
    "    print('a is not there')\n"
   ]
  },
  {
   "cell_type": "code",
   "execution_count": 88,
   "metadata": {},
   "outputs": [
    {
     "name": "stdout",
     "output_type": "stream",
     "text": [
      "Where are you\n"
     ]
    }
   ],
   "source": [
    "# 10. Replace a word in a string with another word.\n",
    "\n",
    "string = \"how are you\"\n",
    "print(string.replace(\"how\",\"Where\"))"
   ]
  },
  {
   "cell_type": "code",
   "execution_count": 89,
   "metadata": {},
   "outputs": [
    {
     "name": "stdout",
     "output_type": "stream",
     "text": [
      "2\n"
     ]
    }
   ],
   "source": [
    "# 11. Count the occurrences of a word in a string.\n",
    "# to find 'o' in stirng\n",
    "str = \"how are you\"\n",
    "count =0\n",
    "for i in str:\n",
    "    if 'o' == i:\n",
    "        count+=1\n",
    "\n",
    "print(count)"
   ]
  },
  {
   "cell_type": "code",
   "execution_count": 97,
   "metadata": {},
   "outputs": [
    {
     "name": "stdout",
     "output_type": "stream",
     "text": [
      "3\n"
     ]
    }
   ],
   "source": [
    "# 11. Count the occurrences of a word in a string.\n",
    "\n",
    "str = \"i am raviteja kulkarni\"\n",
    "c=0\n",
    "for i in str:\n",
    "    if i=='i':\n",
    "        c+=1\n",
    "print(c)"
   ]
  },
  {
   "cell_type": "code",
   "execution_count": 102,
   "metadata": {},
   "outputs": [
    {
     "name": "stdout",
     "output_type": "stream",
     "text": [
      "I\n"
     ]
    }
   ],
   "source": [
    "# 12. Find the first occurrence of a word in a string.\n",
    "str = \"I am Raviteja the great data scientist\"\n",
    "print(str[0])"
   ]
  },
  {
   "cell_type": "code",
   "execution_count": 136,
   "metadata": {},
   "outputs": [
    {
     "name": "stdout",
     "output_type": "stream",
     "text": [
      "first word is h\n",
      "h repeats 2 times\n"
     ]
    }
   ],
   "source": [
    "import re\n",
    "str = \"how are you Raviteja I hope you are fine Raviteja\"\n",
    "print('first word is',str[0])\n",
    "f=str[0]\n",
    "count=0\n",
    "for i in str:\n",
    "    if i==f:\n",
    "        count+=1\n",
    "print(f'{f} repeats {count} times')\n"
   ]
  },
  {
   "cell_type": "code",
   "execution_count": 139,
   "metadata": {},
   "outputs": [
    {
     "name": "stdout",
     "output_type": "stream",
     "text": [
      "last word is a\n",
      "a repeats 6 times\n"
     ]
    }
   ],
   "source": [
    "# 13. Find the last occurrence of a word in a string.\n",
    "str = \"how are you Raviteja I hope you are fine Raviteja\"\n",
    "print('last word is',str[-1])\n",
    "f=str[-1]\n",
    "count=0\n",
    "for i in str:\n",
    "    if i==f:\n",
    "        count+=1\n",
    "print(f'{f} repeats {count} times')\n"
   ]
  },
  {
   "cell_type": "code",
   "execution_count": 161,
   "metadata": {},
   "outputs": [
    {
     "name": "stdout",
     "output_type": "stream",
     "text": [
      "['how', 'are-you']\n"
     ]
    }
   ],
   "source": [
    "# 14. Split a string into a list of words.\n",
    "\n",
    "text=\"how are-you\"\n",
    "print(text.split(' '))"
   ]
  },
  {
   "cell_type": "code",
   "execution_count": 164,
   "metadata": {},
   "outputs": [
    {
     "name": "stdout",
     "output_type": "stream",
     "text": [
      "i am Raviteja\n"
     ]
    }
   ],
   "source": [
    "# 15. Join a list of words into a string.\n",
    "lis=['i','am','Raviteja']\n",
    "x=' '.join(lis)\n",
    "print(x)\n",
    " "
   ]
  },
  {
   "cell_type": "code",
   "execution_count": 181,
   "metadata": {},
   "outputs": [
    {
     "name": "stdout",
     "output_type": "stream",
     "text": [
      "  I am Raviteja\n"
     ]
    }
   ],
   "source": [
    "name = ['I',\"am\",\"Raviteja\"]\n",
    "ans=' '\n",
    "for i in name:\n",
    "    ans = ans+' '+i\n",
    "print(ans)"
   ]
  },
  {
   "cell_type": "code",
   "execution_count": 182,
   "metadata": {},
   "outputs": [
    {
     "name": "stdout",
     "output_type": "stream",
     "text": [
      "i am king\n"
     ]
    }
   ],
   "source": [
    "a=\"i am king\"\n",
    "a.split(', ')\n",
    "print(a)"
   ]
  },
  {
   "cell_type": "code",
   "execution_count": 3,
   "metadata": {},
   "outputs": [
    {
     "name": "stdout",
     "output_type": "stream",
     "text": [
      "Raviteja_S_Kulkarni_The_Data_Scientist\n",
      "Raviteja S Kulkarni The Data Scientist\n"
     ]
    }
   ],
   "source": [
    "# 16. Convert a string where words are separated by spaces to one where words\n",
    "# are separated by underscores.\n",
    "st = \"Raviteja S Kulkarni The Data Scientist\"\n",
    "print(st.replace(\" \",\"_\"))\n"
   ]
  },
  {
   "cell_type": "code",
   "execution_count": 4,
   "metadata": {},
   "outputs": [
    {
     "name": "stdout",
     "output_type": "stream",
     "text": [
      "present\n"
     ]
    }
   ],
   "source": [
    "# Check if a string starts with a specific word or phrase.\n",
    "st = 'he is a king'\n",
    "x=st.split(\" \")\n",
    "\n",
    "specific = input(\"enter first specific word? \")\n",
    "if specific in x[0]:\n",
    "    print('present')\n",
    "else:\n",
    "    print('absent')\n",
    "\n",
    "    "
   ]
  },
  {
   "cell_type": "code",
   "execution_count": 6,
   "metadata": {},
   "outputs": [
    {
     "name": "stdout",
     "output_type": "stream",
     "text": [
      "present\n"
     ]
    }
   ],
   "source": [
    "# 18. Check if a string ends with a specific word or phrase.\n",
    "ing = \"I am Raviteja Kulkarni The AI engineer\"\n",
    "x=ing.split(\" \")\n",
    "specific = input('Enter ending specific word')\n",
    "if specific==x[-1]:\n",
    "    print('present')\n",
    "\n",
    "else:\n",
    "    print(\"absent\")"
   ]
  },
  {
   "cell_type": "code",
   "execution_count": 7,
   "metadata": {},
   "outputs": [
    {
     "name": "stdout",
     "output_type": "stream",
     "text": [
      "Jai Jawan Jai Vignyan\n"
     ]
    }
   ],
   "source": [
    "# 19. Convert a string to title case (e.g., \"hello world\" to \"Hello World\").\n",
    "st = \"jai jawan jai vignyan\"\n",
    "print(st.title())"
   ]
  },
  {
   "cell_type": "code",
   "execution_count": 5,
   "metadata": {},
   "outputs": [
    {
     "name": "stdout",
     "output_type": "stream",
     "text": [
      "Longest word  understanding\n",
      "position of longest word : 3\n"
     ]
    }
   ],
   "source": [
    "# 20. Find the longest word in a string.\n",
    "st = \"I am Raviteja Kulkarni I was spl of my school\"\n",
    "word_list = st.split()\n",
    "Long_word= max(word_list, key = len)\n",
    "pos= word_list.index(Long_word)\n",
    "print(\"Longest word :\",Long_word)\n",
    "print(\"Position of Longest word :\", pos+1)\n"
   ]
  },
  {
   "cell_type": "code",
   "execution_count": 6,
   "metadata": {},
   "outputs": [
    {
     "ename": "IndexError",
     "evalue": "list index out of range",
     "output_type": "error",
     "traceback": [
      "\u001b[1;31m---------------------------------------------------------------------------\u001b[0m",
      "\u001b[1;31mIndexError\u001b[0m                                Traceback (most recent call last)",
      "Cell \u001b[1;32mIn[6], line 6\u001b[0m\n\u001b[0;32m      4\u001b[0m st \u001b[39m=\u001b[39m \u001b[39minput\u001b[39m(\u001b[39m'\u001b[39m\u001b[39mEnter string :\u001b[39m\u001b[39m'\u001b[39m)\n\u001b[0;32m      5\u001b[0m words\u001b[39m=\u001b[39mst\u001b[39m.\u001b[39msplit()\n\u001b[1;32m----> 6\u001b[0m long \u001b[39m=\u001b[39m words[\u001b[39m0\u001b[39;49m]\n\u001b[0;32m      7\u001b[0m max_len\u001b[39m=\u001b[39m \u001b[39mlen\u001b[39m(words[\u001b[39m0\u001b[39m])\n\u001b[0;32m      8\u001b[0m \u001b[39mfor\u001b[39;00m index, word \u001b[39min\u001b[39;00m \u001b[39menumerate\u001b[39m(words):\n",
      "\u001b[1;31mIndexError\u001b[0m: list index out of range"
     ]
    }
   ],
   "source": [
    "# 20. Find the longest word in a string.\n",
    "# method\n",
    "\n",
    "st = input('Enter string :')\n",
    "words=st.split()\n",
    "long = words[0]\n",
    "max_len= len(words[0])\n",
    "for index, word in enumerate(words):\n",
    "    if len(word)>max_len:\n",
    "        max_len = len(word)\n",
    "\n",
    "        long = word\n",
    "    else:\n",
    "        pass\n",
    "\n",
    "idx = st.find(long)\n",
    "print('Longest word ',long)\n",
    "print(\" position of long word\", idx)\n",
    "1"
   ]
  },
  {
   "cell_type": "code",
   "execution_count": 7,
   "metadata": {},
   "outputs": [
    {
     "name": "stdout",
     "output_type": "stream",
     "text": [
      "SHortest word is : in\n",
      "position of shortetst word is : 4\n"
     ]
    }
   ],
   "source": [
    "# 21. Find the shortest word in a string.\n",
    "st = \"Find the sohort world in universeaydj kdj\"\n",
    "short_word=min(st.split(),key= len)\n",
    "print('SHortest word is :',short_word)\n",
    "print('position of shortetst word is :', st.split().index(short_word))"
   ]
  },
  {
   "cell_type": "code",
   "execution_count": 9,
   "metadata": {},
   "outputs": [
    {
     "name": "stdout",
     "output_type": "stream",
     "text": [
      "['reversed', 'when', 'ravitej', 'is', 'this']\n"
     ]
    }
   ],
   "source": [
    "# 22. Reverse the order of words in a string.\n",
    "st = \"this is ravitej when reversed\"\n",
    "print(st.split()[::-1])"
   ]
  },
  {
   "cell_type": "code",
   "execution_count": 5,
   "metadata": {},
   "outputs": [
    {
     "name": "stdout",
     "output_type": "stream",
     "text": [
      "how\n"
     ]
    }
   ],
   "source": [
    "# 23. Check if a string is alphanumeric.\n",
    "st = \"Ia555nm1 KDJDK\"\n",
    "w=st.split()\n",
    "lis = st.split()\n",
    "for i in lis:\n",
    "    if i.isalnum() == True:\n",
    "        print('String contains alphanumeric')\n",
    "        break\n",
    "    else:\n",
    "        pass\n",
    "    "
   ]
  },
  {
   "cell_type": "code",
   "execution_count": 9,
   "metadata": {},
   "outputs": [
    {
     "name": "stdout",
     "output_type": "stream",
     "text": [
      "Digits in Strings are 10\n",
      "Digits in Strings are 2001\n",
      "Digits in Strings are 8\n"
     ]
    }
   ],
   "source": [
    "# 24. Extract all digits from a string.\n",
    "st =\"Raviteja born on 10 Jan 2001 at 8 pm \"\n",
    "for i in st.split():\n",
    "    if i.isdigit():\n",
    "        \n",
    "        print('Digits in Strings are',i)"
   ]
  },
  {
   "cell_type": "code",
   "execution_count": 11,
   "metadata": {},
   "outputs": [
    {
     "name": "stdout",
     "output_type": "stream",
     "text": [
      "['10', '2001', '8']\n"
     ]
    }
   ],
   "source": [
    "#method 2\n",
    "# 24. Extract all digits from a string.\n",
    "st =\"Raviteja born on 10 Jan 2001 at 8 pm \"\n",
    "lis=[]\n",
    "for i in st.split():\n",
    "    if i.isdigit():\n",
    "        lis.append(i)\n",
    "        \n",
    "print(lis)"
   ]
  },
  {
   "cell_type": "code",
   "execution_count": 14,
   "metadata": {},
   "outputs": [
    {
     "name": "stdout",
     "output_type": "stream",
     "text": [
      "['Raviteja', 'born', 'on', 'jan', 'at', 'hr', 'minit']\n"
     ]
    }
   ],
   "source": [
    "# 25. Extract all alphabets from a string.\n",
    "st=\"Raviteja born on 10 jan 2001 at 39 hr 34 minit \"\n",
    "lis=[]\n",
    "for i in st.split():\n",
    "    if i.isalpha():\n",
    "        lis.append(i)\n",
    "print(lis)"
   ]
  },
  {
   "cell_type": "code",
   "execution_count": 22,
   "metadata": {},
   "outputs": [
    {
     "name": "stdout",
     "output_type": "stream",
     "text": [
      "4\n",
      "they are RYBW\n"
     ]
    }
   ],
   "source": [
    "# 26. Count the number of uppercase letters in a string.\n",
    "st= \"Raviteja is the Youngest Billionaire in the World \"\n",
    "c=0\n",
    "alt=''\n",
    "for i in st:\n",
    "    if i.isupper():\n",
    "        c+=1\n",
    "        alt=alt+i\n",
    "\n",
    "print(c)\n",
    "print(\"they are\",alt)\n"
   ]
  },
  {
   "cell_type": "code",
   "execution_count": 24,
   "metadata": {},
   "outputs": [
    {
     "name": "stdout",
     "output_type": "stream",
     "text": [
      "string has 31 small letters and they are \"wanttoecometheorlbestaiengineer\"\n"
     ]
    }
   ],
   "source": [
    "# 27. Count the number of lowercase letters in a string.\n",
    "st=\"I want to Become the WorlDDDD best ai engineer \"\n",
    "c=0\n",
    "alt=''\n",
    "for i in st:\n",
    "    if i.islower():\n",
    "        c+=1\n",
    "        alt=alt+i\n",
    "print(f'string has {c} small letters and they are \"{alt}\"')\n"
   ]
  },
  {
   "cell_type": "code",
   "execution_count": 43,
   "metadata": {},
   "outputs": [
    {
     "name": "stdout",
     "output_type": "stream",
     "text": [
      "kING BECOME'S fROm dIShOnESTY\n"
     ]
    }
   ],
   "source": [
    "# 28. Swap the case of each character in a string.\n",
    "st= \"King become's FroM DisHoNesty\"\n",
    "print(st.swapcase())"
   ]
  },
  {
   "cell_type": "code",
   "execution_count": 67,
   "metadata": {},
   "outputs": [
    {
     "name": "stdout",
     "output_type": "stream",
     "text": [
      "['How', 'you', 'Mr.', 'Raviteja', 'Kulkarni']\n"
     ]
    }
   ],
   "source": [
    "# 29. Remove a specific word from a string.\n",
    "st = 'How are you Mr. Raviteja Kulkarni'\n",
    "rem='are'\n",
    "lis=st.split()\n",
    "for i in lis:\n",
    "    if i==rem:\n",
    "        lis.remove(i)\n",
    "\n",
    "print(lis)"
   ]
  },
  {
   "cell_type": "code",
   "execution_count": 76,
   "metadata": {},
   "outputs": [
    {
     "name": "stdout",
     "output_type": "stream",
     "text": [
      "valid\n"
     ]
    }
   ],
   "source": [
    "# 30. Check if a string is a valid email address.\n",
    "mail='ravitejaslrk@gmail.com'\n",
    "if '@gmail.com' in mail:\n",
    "    print('valid')\n",
    "    "
   ]
  },
  {
   "cell_type": "code",
   "execution_count": 96,
   "metadata": {},
   "outputs": [
    {
     "name": "stdout",
     "output_type": "stream",
     "text": [
      "fals\n"
     ]
    }
   ],
   "source": [
    "#method 2\n",
    "import re\n",
    "\n",
    "# regex= r'^[A-Za-z0-9._%+-]+@[A-Za-z0-9._%+-]+\\.[A-Za-z]{2,7}\\b\n",
    "def check(email):\n",
    "    pat = r\"[A-Za-z0-9]+@[A-Za-z0-9]+\\.[A-Za-z0-9]\"\n",
    "    if re.match(pat, email):\n",
    "        return \"valid\"\n",
    "    return \"fals\"\n",
    "\n",
    "email = \"ravitejmail.com\"\n",
    "print(check(email))\n",
    "\n"
   ]
  },
  {
   "cell_type": "code",
   "execution_count": 99,
   "metadata": {},
   "outputs": [
    {
     "name": "stdout",
     "output_type": "stream",
     "text": [
      "ravi\n"
     ]
    }
   ],
   "source": [
    "# 31. Extract the username from an email address string.\n",
    "r=\"ravi@gmail\"\n",
    "\n",
    "lis=r.split('@')\n",
    "print(lis[0])"
   ]
  },
  {
   "cell_type": "code",
   "execution_count": 102,
   "metadata": {},
   "outputs": [
    {
     "name": "stdout",
     "output_type": "stream",
     "text": [
      "rocky\n"
     ]
    }
   ],
   "source": [
    "#method\n",
    "def ext(email):\n",
    "    lis = email.split(\"@\" )\n",
    "    print(lis[0])\n",
    "email = \"rocky@gmail.com\"\n",
    "ext(email)"
   ]
  },
  {
   "cell_type": "code",
   "execution_count": 109,
   "metadata": {},
   "outputs": [
    {
     "name": "stdout",
     "output_type": "stream",
     "text": [
      "billio.com\n"
     ]
    }
   ],
   "source": [
    "# 32. Extract the username from an email address string.\n",
    "def ext(domain):\n",
    "    lis = email.split(\"@\")\n",
    "    print(lis[1])\n",
    "domain=\"raviteja@billio.com\"\n",
    "ext(domain)"
   ]
  },
  {
   "cell_type": "code",
   "execution_count": 119,
   "metadata": {},
   "outputs": [
    {
     "name": "stdout",
     "output_type": "stream",
     "text": [
      "jkj jkdfjkjd jfjk8ije jki kji\n"
     ]
    }
   ],
   "source": [
    "# 33. Replace multiple spaces in a string with a single space.\n",
    "# \\To replace multiple spaces with one space using Python, the easiest way\n",
    "#  is to use the Python sub() function from the re module.\n",
    "import re\n",
    "st=\"jkj  jkdfjkjd     jfjk8ije       jki kji\"\n",
    "st_single_space=re.sub('\\s+',\" \",st)\n",
    "print(st_single_space)"
   ]
  },
  {
   "cell_type": "code",
   "execution_count": 123,
   "metadata": {},
   "outputs": [
    {
     "name": "stdout",
     "output_type": "stream",
     "text": [
      "ravieja ajsdi jijk j ajid\n"
     ]
    }
   ],
   "source": [
    "# method2 Another method to replace multiple spaces \n",
    "# with one space is combining the use of split() and join.\n",
    "st_mul=\"ravieja  ajsdi   jijk j     ajid\"\n",
    "st_single_space= \" \".join(st_mul.split())\n",
    "print(st_single_space)"
   ]
  },
  {
   "cell_type": "code",
   "execution_count": 125,
   "metadata": {},
   "outputs": [
    {
     "name": "stdout",
     "output_type": "stream",
     "text": [
      "['http://example.org/index.php']\n"
     ]
    }
   ],
   "source": [
    "# 34. Check if a string is a valid URL.\n",
    "import re\n",
    "\n",
    "pattern = r'http[s]?://(?:[a-zA-Z]|[0-9]|[$-_@.&+]|[!*\\(\\),]|(?:%[0-9a-fA-F][0-9a-fA-F]))+'\n",
    "text = 'Some text with a URL: https:/.example.com/page.html and another URL: http://example.org/index.php'\n",
    "\n",
    "urls = re.findall(pattern, text)\n",
    "\n",
    "print(\"valid url are\",urls)\n"
   ]
  },
  {
   "cell_type": "code",
   "execution_count": 131,
   "metadata": {},
   "outputs": [
    {
     "name": "stdout",
     "output_type": "stream",
     "text": [
      "url is in format httpss\n"
     ]
    }
   ],
   "source": [
    "# 35. Extract the protocol (http or https) from a URL string.\n",
    "from urllib.parse import urlparse\n",
    "\n",
    "url = \"httpss://google.com\"\n",
    "parsed_url = urlparse(url)\n",
    "protocol=parsed_url.scheme\n",
    "print(f'url is in format {protocol}')"
   ]
  },
  {
   "cell_type": "code",
   "execution_count": 3,
   "metadata": {},
   "outputs": [
    {
     "name": "stdout",
     "output_type": "stream",
     "text": [
      "Count of all characters in GeeksforGeeks is :\n",
      "  {'G': 2, 'e': 5, 'k': 2, 's': 2, 'f': 1, 'r': 2, 'a': 2, 'v': 1, 'i': 1, 't': 1, 'j': 1, 'o': 1}\n"
     ]
    }
   ],
   "source": [
    "# 36. Find the frequency of each character in a string.\n",
    "# initializing string\n",
    "test_str = \"GeeksfravitejaorGeeks\"\n",
    " \n",
    "# using naive method to get count\n",
    "# of each element in string\n",
    "all_freq = {}\n",
    " \n",
    "for i in test_str:\n",
    "    if i in all_freq:\n",
    "        all_freq[i] += 1\n",
    "    else:\n",
    "        all_freq[i] = 1\n",
    " \n",
    "# printing result\n",
    "print(\"Count of all characters in GeeksforGeeks is :\\n \"\n",
    "      ,all_freq)"
   ]
  },
  {
   "cell_type": "code",
   "execution_count": 4,
   "metadata": {},
   "outputs": [
    {
     "name": "stdout",
     "output_type": "stream",
     "text": [
      "Count of all characters in GeeksforGeeks is :\n",
      "  Counter({'e': 4, 'G': 2, 'k': 2, 's': 2, 'f': 1, 'o': 1, 'r': 1})\n"
     ]
    }
   ],
   "source": [
    "# method2\n",
    "# each occurrence frequency using\n",
    "# collections.Counter()\n",
    "from collections import Counter\n",
    " \n",
    "# initializing string\n",
    "test_str = \"GeeksforGeeks\"\n",
    " \n",
    "# using collections.Counter() to get\n",
    "# count of each element in string\n",
    "res = Counter(test_str)\n",
    " \n",
    "# printing result\n",
    "print(\"Count of all characters in GeeksforGeeks is :\\n \"\n",
    "      ,(res))"
   ]
  },
  {
   "cell_type": "code",
   "execution_count": 24,
   "metadata": {},
   "outputs": [
    {
     "data": {
      "text/plain": [
       "{'ravi': 4, 'tejas': 5, 'business': 8, 'king': 4, 'raavan': 6}"
      ]
     },
     "execution_count": 24,
     "metadata": {},
     "output_type": "execute_result"
    }
   ],
   "source": [
    "# 37. Convert a list to a dictionary where list elements become keys and their\n",
    "# indices become values.\n",
    "\n",
    "lis=['ravi','tejas','business','king','raavan']\n",
    "x=[]\n",
    "for i in lis:\n",
    "    x.append(len(i))\n",
    "dict(zip(lis,x))"
   ]
  },
  {
   "cell_type": "code",
   "execution_count": 49,
   "metadata": {},
   "outputs": [
    {
     "name": "stdout",
     "output_type": "stream",
     "text": [
      "['ravi', 'raavan', 'raavan', 'business', 'raavan']\n"
     ]
    }
   ],
   "source": [
    "import random\n",
    "lis=['ravi','tejas','business','king','raavan']\n",
    "x=[]\n",
    "y=random.randrange(0,5)\n",
    "for i in lis:\n",
    "    y=random.randrange(0,5)\n",
    "    x.append(lis[y])\n",
    "\n",
    "print(x)"
   ]
  },
  {
   "cell_type": "code",
   "execution_count": 1,
   "metadata": {},
   "outputs": [
    {
     "name": "stdout",
     "output_type": "stream",
     "text": [
      "factorrial of  1 is 1\n",
      "factorrial of  2 is 2\n",
      "factorrial of  3 is 6\n",
      "factorrial of  4 is 24\n",
      "factorrial of  5 is 120\n",
      "factorrial of  6 is 720\n",
      "factorrial of  7 is 5040\n",
      "factorrial of  8 is 40320\n",
      "factorrial of  9 is 362880\n",
      "factorrial of  10 is 3628800\n"
     ]
    }
   ],
   "source": [
    "# 39. Create a list of the first 10 factorial numbers.\n",
    "\n",
    "lis=[1,2,3,4,5,6,7,8,9,10]\n",
    "for item in lis:\n",
    "    fact=1\n",
    "    for number in range(1,item+1):\n",
    "        fact=fact*number\n",
    "\n",
    "    print('factorrial of ',item,'is',fact)"
   ]
  },
  {
   "cell_type": "code",
   "execution_count": 17,
   "metadata": {},
   "outputs": [
    {
     "name": "stdout",
     "output_type": "stream",
     "text": [
      "[1, 2, 3, 4, 5, 6, 7, 8, 9, 10]\n",
      "factorial of 1 is 1\n",
      "factorial of 2 is 2\n",
      "factorial of 3 is 6\n",
      "factorial of 4 is 24\n",
      "factorial of 5 is 120\n",
      "factorial of 6 is 720\n",
      "factorial of 7 is 5040\n",
      "factorial of 8 is 40320\n",
      "factorial of 9 is 362880\n",
      "factorial of 10 is 3628800\n"
     ]
    }
   ],
   "source": [
    "# method 2\n",
    "lis=[]\n",
    "for x in range(1,11):\n",
    "    lis.append(x)\n",
    "print(lis)\n",
    "for i in lis:\n",
    "    fact=1\n",
    "    for num in range(1,i+1):\n",
    "        fact=fact*num\n",
    "    print(f'factorial of {num} is {fact}')\n",
    "    "
   ]
  },
  {
   "cell_type": "code",
   "execution_count": 31,
   "metadata": {},
   "outputs": [
    {
     "name": "stdout",
     "output_type": "stream",
     "text": [
      "common element list 3 and list 2 is 3\n",
      "no common elements\n"
     ]
    }
   ],
   "source": [
    "# 40. Check if two lists have at least one element in common.\n",
    "lis1=[3,4,5,6,7]\n",
    "lis2=[3,32,2,1,2,33]\n",
    "\n",
    "for i in lis1:\n",
    "    for j in lis2:\n",
    "        if i==j:\n",
    "            print(f'common element list {i} and list 2 is {j}')\n",
    "        else:\n",
    "            pass\n",
    "    \n"
   ]
  },
  {
   "cell_type": "code",
   "execution_count": 33,
   "metadata": {},
   "outputs": [
    {
     "name": "stdout",
     "output_type": "stream",
     "text": [
      "common element\n"
     ]
    }
   ],
   "source": [
    "#method 2\n",
    "lis1=[3,4,5,6,7]\n",
    "lis2=[3,32,2,1,2,33]\n",
    "\n",
    "if (lis1 and lis2):\n",
    "    print('common element')\n",
    "else:\n",
    "    print('not any common element')"
   ]
  },
  {
   "cell_type": "code",
   "execution_count": 44,
   "metadata": {},
   "outputs": [
    {
     "name": "stdout",
     "output_type": "stream",
     "text": [
      "None\n"
     ]
    }
   ],
   "source": [
    "# 41. Remove all elements from a list.41. \n",
    "lis=[3,32,23,88,'3']\n",
    "print(lis.clear())"
   ]
  },
  {
   "cell_type": "code",
   "execution_count": 46,
   "metadata": {},
   "outputs": [
    {
     "name": "stdout",
     "output_type": "stream",
     "text": [
      "[]\n"
     ]
    }
   ],
   "source": [
    "# 41. Remove all elements from a list.\n",
    "lis=[3,32,23,88,'3']\n",
    "while lis:\n",
    "    lis.pop()\n",
    "print(lis)"
   ]
  },
  {
   "cell_type": "code",
   "execution_count": 51,
   "metadata": {},
   "outputs": [
    {
     "name": "stdout",
     "output_type": "stream",
     "text": [
      "[3, 32, 23, 88, '3']\n"
     ]
    }
   ],
   "source": [
    "# 41. Remove all elements from a list.\n",
    "lis=[3,32,23,88,'3']\n",
    "del lis[:]\n",
    "print(lis)"
   ]
  },
  {
   "cell_type": "code",
   "execution_count": 74,
   "metadata": {},
   "outputs": [
    {
     "name": "stdout",
     "output_type": "stream",
     "text": [
      "[0, 5, 43, 0, 40, 0, 3, 2, 0]\n"
     ]
    }
   ],
   "source": [
    "# 42. Replace negative numbers in a list with 0.\n",
    "lis=[-3,5,43,-44,40,0,3,2,-1]\n",
    "for i in range(len(lis)):\n",
    "    if lis[i]<0:\n",
    "        lis[i]=0\n",
    "    else:\n",
    "        pass\n",
    "print(lis)\n"
   ]
  },
  {
   "cell_type": "code",
   "execution_count": 76,
   "metadata": {},
   "outputs": [
    {
     "name": "stdout",
     "output_type": "stream",
     "text": [
      "['I', 'am', 'Raviteja', 'Kulkarni']\n"
     ]
    }
   ],
   "source": [
    "# 43. Convert a string into a list of words.\n",
    "sent=\"I am Raviteja Kulkarni\"\n",
    "print(sent.split(' '))"
   ]
  },
  {
   "cell_type": "code",
   "execution_count": 78,
   "metadata": {},
   "outputs": [
    {
     "name": "stdout",
     "output_type": "stream",
     "text": [
      "2 power0 is  1\n",
      "2 power1 is  2\n",
      "2 power2 is  4\n",
      "2 power3 is  8\n"
     ]
    }
   ],
   "source": [
    "# 45. Create a list of the first `n` powers of 2.\n",
    "x=int(input('enter how many power of 2 you want to calculate'))\n",
    "for i in range(x):\n",
    "    print(f'2 power {i} is ',2**i)\n"
   ]
  },
  {
   "cell_type": "code",
   "execution_count": 148,
   "metadata": {},
   "outputs": [
    {
     "name": "stdout",
     "output_type": "stream",
     "text": [
      "kulkanri\n"
     ]
    }
   ],
   "source": [
    "\n",
    "name = \"I am king slrk ravi kulkanri\"\n",
    "y=[]\n",
    "x=name.split()\n",
    "for j in x:\n",
    "    y.append(j)\n",
    "\n",
    "large=-1\n",
    "for item in y:\n",
    "    if len(item)>large:\n",
    "        large=len(item)\n",
    "        result=item\n",
    "\n",
    "print(result)"
   ]
  },
  {
   "cell_type": "code",
   "execution_count": 162,
   "metadata": {},
   "outputs": [
    {
     "name": "stdout",
     "output_type": "stream",
     "text": [
      "['Ed', 'Jo']\n"
     ]
    }
   ],
   "source": [
    "# # 47. Find the shortest string in a list of strings.\n",
    "# names = \"I am king slrk ravi kulkanri\"\n",
    "# y=[]\n",
    "# x=names.split()\n",
    "# for j in x:\n",
    "#     y.append(j)\n",
    "names=[\"Hans\", \"Anna\", \"Vladimir\", \"Michael\", \"Ed\", \"Susan\", \"Janice\", \"Jo\"]\n",
    "smallest_len = len(min(names, key=len))\n",
    "smallest = [name for name in names if len(name) == smallest_len]\n",
    "print(smallest)"
   ]
  },
  {
   "cell_type": "code",
   "execution_count": 171,
   "metadata": {},
   "outputs": [
    {
     "name": "stdout",
     "output_type": "stream",
     "text": [
      "[1, 3, 6, 10, 15]\n"
     ]
    }
   ],
   "source": [
    "# 48. Create a list of the first `n` triangular numbers.\n",
    "# triangular no formula n*(n+1)/2\n",
    "\n",
    "def triangu(n):\n",
    "    \n",
    "    #initilize empty list\n",
    "    lis=[]\n",
    "    for i in range(1,n+1):\n",
    "        formula=i*(i+1)//2\n",
    "\n",
    "        lis.append(formula)\n",
    "\n",
    "    return lis\n",
    "\n",
    "print(triangu(5))"
   ]
  },
  {
   "cell_type": "code",
   "execution_count": 10,
   "metadata": {},
   "outputs": [
    {
     "name": "stdout",
     "output_type": "stream",
     "text": [
      "no subset \n"
     ]
    }
   ],
   "source": [
    "# 49. Check if a list contains another list as a subsequence.\n",
    "lis1=[1,2,3,4,5,6]\n",
    "lis2=[2,3,4]\n",
    "subset=[]\n",
    "for i in lis1:\n",
    "    for j in lis2:\n",
    "        if i==j:\n",
    "            subset.append(j)\n",
    "        else:\n",
    "            pass\n",
    "\n",
    "if lis2==subset:\n",
    "    print(f'{lis2} is subset of {lis1}')\n",
    "else:\n",
    "    print('no subsequence ')\n",
    "\n",
    "\n"
   ]
  },
  {
   "cell_type": "code",
   "execution_count": 11,
   "metadata": {},
   "outputs": [
    {
     "name": "stdout",
     "output_type": "stream",
     "text": [
      "dkdd\n"
     ]
    }
   ],
   "source": [
    "l=[1,2,3]\n",
    "k=[1,2,3,4]\n",
    "if l==k:\n",
    "    print('kd')\n",
    "else:\n",
    "    print('dkdd')"
   ]
  },
  {
   "cell_type": "code",
   "execution_count": 21,
   "metadata": {},
   "outputs": [
    {
     "name": "stdout",
     "output_type": "stream",
     "text": [
      "[1, 222, 111, 33, 111, 555]\n"
     ]
    }
   ],
   "source": [
    "# 50. Swap two elements in a list by their indices.\n",
    "def swap_element(list,pos_a,pos_b):\n",
    "    list[pos_a],list[pos_b]=list[pos_b],list[pos_a]\n",
    "    return list\n",
    "List=[1,33,777,222,111,555]\n",
    "pos_a,pos_b=2,4\n",
    "print(swap_element(list,pos_a,pos_b))\n"
   ]
  },
  {
   "cell_type": "code",
   "execution_count": null,
   "metadata": {},
   "outputs": [],
   "source": []
  }
 ],
 "metadata": {
  "kernelspec": {
   "display_name": "Python 3",
   "language": "python",
   "name": "python3"
  },
  "language_info": {
   "codemirror_mode": {
    "name": "ipython",
    "version": 3
   },
   "file_extension": ".py",
   "mimetype": "text/x-python",
   "name": "python",
   "nbconvert_exporter": "python",
   "pygments_lexer": "ipython3",
   "version": "3.11.4"
  },
  "orig_nbformat": 4
 },
 "nbformat": 4,
 "nbformat_minor": 2
}
